{
 "cells": [
  {
   "cell_type": "markdown",
   "metadata": {},
   "source": [
    "## Solving differential equations using the forward euler method\n",
    "### The eulerian free fall of an object\n"
   ]
  },
  {
   "cell_type": "code",
   "execution_count": 2,
   "metadata": {
    "collapsed": false
   },
   "outputs": [
    {
     "name": "stdout",
     "output_type": "stream",
     "text": [
      "Populating the interactive namespace from numpy and matplotlib\n"
     ]
    }
   ],
   "source": [
    "%pylab inline\n",
    "import numpy as np\n",
    "import matplotlib.pyplot"
   ]
  },
  {
   "cell_type": "markdown",
   "metadata": {},
   "source": [
    "The forward euler method "
   ]
  },
  {
   "cell_type": "code",
   "execution_count": 3,
   "metadata": {
    "collapsed": true
   },
   "outputs": [],
   "source": [
    "def forward_euler():\n",
    "    h=.1 #s -->small step\n",
    "    g=9.81 #m/s**2 --> gravitational free fall acceleration\n",
    "    \n",
    "    num_steps=50\n",
    "    \n",
    "    t= np.zeros(num_steps +1)\n",
    "    x= np.zeros(num_steps +1)\n",
    "    v= np.zeros(num_steps +1)\n",
    "    \n",
    "    \n",
    "    for step in range (num_steps):\n",
    "        t[step +1]= h * (step +1 )\n",
    "        x[step +1]= x[step] + h *v[step]\n",
    "        v[step +1]= v[step] - h*g\n",
    "    \n",
    "    return t,x,v"
   ]
  },
  {
   "cell_type": "markdown",
   "metadata": {},
   "source": [
    "obtaining the results and plotting the height and velocity\n"
   ]
  },
  {
   "cell_type": "code",
   "execution_count": 4,
   "metadata": {
    "collapsed": false
   },
   "outputs": [
    {
     "data": {
      "image/png": "[encoded data removed]",
      "text/plain": [
       "<matplotlib.figure.Figure at 0xb0eea2ac>"
      ]
     },
     "metadata": {},
     "output_type": "display_data"
    }
   ],
   "source": [
    "t,x,v = forward_euler()\n",
    "\n",
    "#plotting the acceleration and velocity\n",
    "axes_height= matplotlib.pyplot.subplot(211)\n",
    "matplotlib.pyplot.plot(t,x)\n",
    "axes_velocity= matplotlib.pyplot.subplot(212)\n",
    "matplotlib.pyplot.plot(t,v)\n",
    "axes_height.set_ylabel(\"Height in m\")\n",
    "axes_velocity.set_ylabel(\"Velocity in m/s\")\n",
    "axes_velocity.set_xlabel(\"Time in s\")\n",
    "matplotlib.pyplot.show()\n"
   ]
  },
  {
   "cell_type": "code",
   "execution_count": null,
   "metadata": {
    "collapsed": true
   },
   "outputs": [],
   "source": []
  }
 ],
 "metadata": {
  "kernelspec": {
   "display_name": "Python 2",
   "language": "python",
   "name": "python2"
  },
  "language_info": {
   "codemirror_mode": {
    "name": "ipython",
    "version": 2
   },
   "file_extension": ".py",
   "mimetype": "text/x-python",
   "name": "python",
   "nbconvert_exporter": "python",
   "pygments_lexer": "ipython2",
   "version": "2.7.6"
  }
 },
 "nbformat": 4,
 "nbformat_minor": 0
}
